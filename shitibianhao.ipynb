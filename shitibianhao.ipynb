{
  "nbformat": 4,
  "nbformat_minor": 0,
  "metadata": {
    "colab": {
      "name": "Untitled1.ipynb",
      "provenance": [],
      "collapsed_sections": [],
      "authorship_tag": "ABX9TyNRkCk0WEk6AeyDzvBEWMP8",
      "include_colab_link": true
    },
    "kernelspec": {
      "name": "python3",
      "display_name": "Python 3"
    },
    "language_info": {
      "name": "python"
    }
  },
  "cells": [
    {
      "cell_type": "markdown",
      "metadata": {
        "id": "view-in-github",
        "colab_type": "text"
      },
      "source": [
        "<a href=\"https://colab.research.google.com/github/prasnaoktavian/security2021/blob/main/shitibianhao.ipynb\" target=\"_parent\"><img src=\"https://colab.research.google.com/assets/colab-badge.svg\" alt=\"Open In Colab\"/></a>"
      ]
    },
    {
      "cell_type": "code",
      "metadata": {
        "colab": {
          "base_uri": "https://localhost:8080/"
        },
        "id": "6SXYIhNjaLs1",
        "outputId": "6da87b48-1836-456e-d88a-06c7927c5883"
      },
      "source": [
        "print(\"hello,python!\")"
      ],
      "execution_count": 1,
      "outputs": [
        {
          "output_type": "stream",
          "text": [
            "hello,python!\n"
          ],
          "name": "stdout"
        }
      ]
    },
    {
      "cell_type": "code",
      "metadata": {
        "id": "rq_WqwZxaSwb"
      },
      "source": [
        "#print(\"hello,python!\")"
      ],
      "execution_count": 28,
      "outputs": []
    },
    {
      "cell_type": "code",
      "metadata": {
        "colab": {
          "base_uri": "https://localhost:8080/",
          "height": 131
        },
        "id": "JllUbSeWadOD",
        "outputId": "a61192cd-7c38-442a-ecd3-df4d285251f0"
      },
      "source": [
        "(1)school=\"(2)ksu\""
      ],
      "execution_count": 20,
      "outputs": [
        {
          "output_type": "error",
          "ename": "SyntaxError",
          "evalue": "ignored",
          "traceback": [
            "\u001b[0;36m  File \u001b[0;32m\"<ipython-input-20-13c0ee671931>\"\u001b[0;36m, line \u001b[0;32m1\u001b[0m\n\u001b[0;31m    (1)\"school\"=\"(2)ksu\"\u001b[0m\n\u001b[0m              ^\u001b[0m\n\u001b[0;31mSyntaxError\u001b[0m\u001b[0;31m:\u001b[0m invalid syntax\n"
          ]
        }
      ]
    },
    {
      "cell_type": "code",
      "metadata": {
        "colab": {
          "base_uri": "https://localhost:8080/"
        },
        "id": "Zkc1zpAlcwQ8",
        "outputId": "8a15fa2f-aee4-4fd9-8551-30a6ef74a4ac"
      },
      "source": [
        "y=65535\n",
        "print(type(y))"
      ],
      "execution_count": 26,
      "outputs": [
        {
          "output_type": "stream",
          "text": [
            "<class 'int'>\n"
          ],
          "name": "stdout"
        }
      ]
    },
    {
      "cell_type": "code",
      "metadata": {
        "colab": {
          "base_uri": "https://localhost:8080/"
        },
        "id": "ScUjiknagVLt",
        "outputId": "6d01ae54-8b54-4a70-b557-2716e6d6cbe5"
      },
      "source": [
        "string1=\"hello,python!\"\n",
        "print(len(string1))"
      ],
      "execution_count": 30,
      "outputs": [
        {
          "output_type": "stream",
          "text": [
            "13\n"
          ],
          "name": "stdout"
        }
      ]
    },
    {
      "cell_type": "code",
      "metadata": {
        "colab": {
          "base_uri": "https://localhost:8080/"
        },
        "id": "7M_vhWj3g6vF",
        "outputId": "adb828d8-bb3c-4625-f611-14a1b3cf74c4"
      },
      "source": [
        "print(100 < 200)"
      ],
      "execution_count": 31,
      "outputs": [
        {
          "output_type": "stream",
          "text": [
            "True\n"
          ],
          "name": "stdout"
        }
      ]
    },
    {
      "cell_type": "code",
      "metadata": {
        "colab": {
          "base_uri": "https://localhost:8080/"
        },
        "id": "btpE7tpohNd0",
        "outputId": "9dcf47ba-60cc-4f58-be6d-e03a65c94983"
      },
      "source": [
        "a = bool(100)\n",
        "print(a)"
      ],
      "execution_count": 32,
      "outputs": [
        {
          "output_type": "stream",
          "text": [
            "True\n"
          ],
          "name": "stdout"
        }
      ]
    },
    {
      "cell_type": "code",
      "metadata": {
        "colab": {
          "base_uri": "https://localhost:8080/"
        },
        "id": "DswEdOdOhadU",
        "outputId": "8ec4cc40-47e7-492b-ec0d-badb24326385"
      },
      "source": [
        "a = [\"python\",\"True\",\"1234\"]\n",
        "print(type(a))"
      ],
      "execution_count": 33,
      "outputs": [
        {
          "output_type": "stream",
          "text": [
            "<class 'list'>\n"
          ],
          "name": "stdout"
        }
      ]
    },
    {
      "cell_type": "code",
      "metadata": {
        "colab": {
          "base_uri": "https://localhost:8080/"
        },
        "id": "NFyNG3-chv61",
        "outputId": "839500a2-07c6-48d6-bd4d-fa77693ee350"
      },
      "source": [
        "a = {\"name\":\"Eric\",\"age\":90}\n",
        "print(type(a))"
      ],
      "execution_count": 34,
      "outputs": [
        {
          "output_type": "stream",
          "text": [
            "<class 'dict'>\n"
          ],
          "name": "stdout"
        }
      ]
    },
    {
      "cell_type": "code",
      "metadata": {
        "colab": {
          "base_uri": "https://localhost:8080/"
        },
        "id": "n5JKQ7hLiGvO",
        "outputId": "d846dfd5-a101-4a91-c95a-9efe6e2dbba0"
      },
      "source": [
        "a=\"hello python\"\n",
        "print(a)"
      ],
      "execution_count": 35,
      "outputs": [
        {
          "output_type": "stream",
          "text": [
            "hello python\n"
          ],
          "name": "stdout"
        }
      ]
    },
    {
      "cell_type": "code",
      "metadata": {
        "colab": {
          "base_uri": "https://localhost:8080/"
        },
        "id": "q-AAM2bfjExV",
        "outputId": "d74ab0d1-e603-4936-e4df-2672f7213d03"
      },
      "source": [
        "a=\"hello,world!\"\n",
        "print(a[2:5])"
      ],
      "execution_count": 36,
      "outputs": [
        {
          "output_type": "stream",
          "text": [
            "llo\n"
          ],
          "name": "stdout"
        }
      ]
    },
    {
      "cell_type": "code",
      "metadata": {
        "colab": {
          "base_uri": "https://localhost:8080/"
        },
        "id": "uz83fWLUjaG1",
        "outputId": "1e13dfac-df98-4895-afb2-f258cf771ba7"
      },
      "source": [
        "a=\" HelloPython\"\n",
        "print(a.strip())"
      ],
      "execution_count": 37,
      "outputs": [
        {
          "output_type": "stream",
          "text": [
            "HelloPython\n"
          ],
          "name": "stdout"
        }
      ]
    }
  ]
}